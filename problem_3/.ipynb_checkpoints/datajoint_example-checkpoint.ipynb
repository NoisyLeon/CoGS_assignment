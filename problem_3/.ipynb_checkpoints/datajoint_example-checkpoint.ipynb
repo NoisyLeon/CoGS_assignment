{
 "cells": [
  {
   "cell_type": "markdown",
   "metadata": {},
   "source": [
    "# An example of a data pipeline written in datajoint"
   ]
  },
  {
   "cell_type": "markdown",
   "metadata": {},
   "source": [
    "Datajoint is a tool to describe relational databases in python or matlab. It allows scientists, who are often not very experienced with databases, to communication with a SQL database. Some more info can be found here:\n",
    "\n",
    "https://tutorials.datajoint.io/\n",
    "\n",
    "https://docs.datajoint.io/python/"
   ]
  },
  {
   "cell_type": "code",
   "execution_count": 1,
   "metadata": {},
   "outputs": [],
   "source": [
    "import datajoint as dj\n",
    "import pylab as pl\n",
    "import numpy as np\n",
    "from scipy import stats"
   ]
  },
  {
   "cell_type": "markdown",
   "metadata": {},
   "source": [
    "After installing a local SQL server [like MariaDB] you should be able to connect to it."
   ]
  },
  {
   "cell_type": "code",
   "execution_count": 2,
   "metadata": {},
   "outputs": [
    {
     "name": "stdout",
     "output_type": "stream",
     "text": [
      "Please enter DataJoint username: manuel\n",
      "Please enter DataJoint password: ········\n",
      "Connecting manuel@localhost:3306\n"
     ]
    },
    {
     "data": {
      "text/plain": [
       "DataJoint connection (connected) manuel@localhost:3306"
      ]
     },
     "execution_count": 2,
     "metadata": {},
     "output_type": "execute_result"
    }
   ],
   "source": [
    "dj.conn()"
   ]
  },
  {
   "cell_type": "markdown",
   "metadata": {},
   "source": [
    "## 1) Defining the relational structure of the database"
   ]
  },
  {
   "cell_type": "markdown",
   "metadata": {},
   "source": [
    "Define the schema to work in"
   ]
  },
  {
   "cell_type": "code",
   "execution_count": 25,
   "metadata": {},
   "outputs": [],
   "source": [
    "schema = dj.schema('manuel_test')"
   ]
  },
  {
   "cell_type": "markdown",
   "metadata": {},
   "source": [
    "And the relational structure of the database. This database contains users that run experiments. Every experiment contains a data set with datapoints; these datapoints are analyzed and the result saved back in the database.\n",
    "\n",
    "There are four allowed types of tables: Lookup, Manual, Imported and Part. The construction of the database is done by the definitions in the definition string. Lookup and Manual allow to specify all relevant components. Imported and computed run a function to populate the database automatically"
   ]
  },
  {
   "cell_type": "code",
   "execution_count": 26,
   "metadata": {},
   "outputs": [],
   "source": [
    "@schema\n",
    "class User(dj.Lookup):\n",
    "    definition = \"\"\"\n",
    "    # users in the lab\n",
    "    username : varchar(20)      # user in the lab\n",
    "    ---\n",
    "    first_name  : varchar(20)   # user first name\n",
    "    last_name   : varchar(20)   # user last name\n",
    "    \"\"\"\n",
    "    contents = [\n",
    "        ['Angus', 'Angus', 'Macguyver'],\n",
    "        ['John', 'John', 'Doe'],\n",
    "    ]\n",
    "\n",
    "@schema\n",
    "class Experiment(dj.Manual):\n",
    "    definition = \"\"\" # A simple experiment.\n",
    "    -> User\n",
    "    experiment : int    # allowed here are sql datatypes.\n",
    "    ----\n",
    "    \"\"\"\n",
    "    \n",
    "@schema\n",
    "class Set(dj.Imported):\n",
    "    definition = \"\"\"\n",
    "    # A set of datapoints\n",
    "    -> Experiment\n",
    "    -----\n",
    "    \"\"\"\n",
    "\n",
    "    class DataPoint(dj.Part):\n",
    "        definition = \"\"\"\n",
    "        # Collected data.\n",
    "        -> Set\n",
    "        datapoint : int\n",
    "        -----\n",
    "        x : float\n",
    "        y : float\n",
    "        \"\"\"\n",
    "\n",
    "    def _make_tuples(self, key):\n",
    "        # Note that Imported and Computed (below) have a function _make_tuples\n",
    "        # This allows to call a method s.populate() to automatically populate the data with content.\n",
    "        n = 10\n",
    "        mu = 0\n",
    "        sigma = .1\n",
    "        self.insert1(key)\n",
    "        # Insert all of our datapoints\n",
    "        b = []\n",
    "        for i in range(n):\n",
    "            b.append(dict(key, datapoint=i, x=i + np.random.normal(mu, sigma), y=2*i + np.random.normal(mu, sigma)))\n",
    "        self.DataPoint().insert(b)"
   ]
  },
  {
   "cell_type": "markdown",
   "metadata": {},
   "source": [
    "Datajoint allows to plot an entity relationship diagram. This shows explicitly what we have just described:"
   ]
  },
  {
   "cell_type": "code",
   "execution_count": 27,
   "metadata": {},
   "outputs": [
    {
     "data": {
      "image/svg+xml": [
       "<svg height=\"240pt\" viewBox=\"0.00 0.00 85.70 240.50\" width=\"86pt\" xmlns=\"http://www.w3.org/2000/svg\" xmlns:xlink=\"http://www.w3.org/1999/xlink\">\n",
       "<g class=\"graph\" id=\"graph0\" transform=\"scale(1 1) rotate(0) translate(4 236.499)\">\n",
       "<title>%3</title>\n",
       "<polygon fill=\"#ffffff\" points=\"-4,4 -4,-236.499 81.7041,-236.499 81.7041,4 -4,4\" stroke=\"transparent\"/>\n",
       "<!-- Set.DataPoint -->\n",
       "<g class=\"node\" id=\"node1\">\n",
       "<title>Set.DataPoint</title>\n",
       "<g id=\"a_node1\"><a xlink:title=\"→ Set\r",
       "datapoint            \r",
       "------------------------------\r",
       "x                    \r",
       "y                    \r",
       "\">\n",
       "<polygon fill=\"transparent\" points=\"77.5567,-19.7551 .1474,-19.7551 .1474,.2561 77.5567,.2561 77.5567,-19.7551\" stroke=\"transparent\"/>\n",
       "<text fill=\"#000000\" font-family=\"arial\" font-size=\"10.00\" text-anchor=\"start\" text-decoration=\"underline\" x=\"8\" y=\"-8.499\">Set.DataPoint</text>\n",
       "</a>\n",
       "</g>\n",
       "</g>\n",
       "<!-- Set -->\n",
       "<g class=\"node\" id=\"node2\">\n",
       "<title>Set</title>\n",
       "<g id=\"a_node2\"><a xlink:title=\"→ Experiment\r",
       "\">\n",
       "<ellipse cx=\"38.8521\" cy=\"-72.999\" fill=\"#00007f\" fill-opacity=\"0.250980\" rx=\"21.9757\" ry=\"17.5\" stroke=\"#00007f\" stroke-opacity=\"0.250980\"/>\n",
       "<text fill=\"#00007f\" font-family=\"arial\" font-size=\"12.00\" text-anchor=\"middle\" x=\"38.8521\" y=\"-70.2984\">Set</text>\n",
       "</a>\n",
       "</g>\n",
       "</g>\n",
       "<!-- Set&#45;&gt;Set.DataPoint -->\n",
       "<g class=\"edge\" id=\"edge1\">\n",
       "<title>Set-&gt;Set.DataPoint</title>\n",
       "<path d=\"M38.8521,-55.3805C38.8521,-43.8298 38.8521,-29.1552 38.8521,-19.6127\" fill=\"none\" stroke=\"#000000\" stroke-opacity=\"0.250980\" stroke-width=\".75\"/>\n",
       "</g>\n",
       "<!-- User -->\n",
       "<g class=\"node\" id=\"node3\">\n",
       "<title>User</title>\n",
       "<g id=\"a_node3\"><a xlink:title=\"username             \r",
       "------------------------------\r",
       "first_name           \r",
       "last_name            \r",
       "\">\n",
       "<polygon fill=\"#000000\" fill-opacity=\"0.125490\" points=\"57.4655,-232.499 20.2386,-232.499 20.2386,-197.499 57.4655,-197.499 57.4655,-232.499\" stroke=\"transparent\"/>\n",
       "<text fill=\"#000000\" font-family=\"arial\" font-size=\"10.00\" text-anchor=\"start\" text-decoration=\"underline\" x=\"28.2954\" y=\"-213.7485\">User</text>\n",
       "</a>\n",
       "</g>\n",
       "</g>\n",
       "<!-- Experiment -->\n",
       "<g class=\"node\" id=\"node4\">\n",
       "<title>Experiment</title>\n",
       "<g id=\"a_node4\"><a xlink:title=\"→ User\r",
       "experiment           \r",
       "\">\n",
       "<polygon fill=\"#00ff00\" fill-opacity=\"0.188235\" points=\"77.0441,-161.499 .66,-161.499 .66,-126.499 77.0441,-126.499 77.0441,-161.499\" stroke=\"#00ff00\" stroke-opacity=\"0.188235\"/>\n",
       "<text fill=\"#006400\" font-family=\"arial\" font-size=\"12.00\" text-anchor=\"start\" text-decoration=\"underline\" x=\"8.5063\" y=\"-142.2984\">Experiment</text>\n",
       "</a>\n",
       "</g>\n",
       "</g>\n",
       "<!-- User&#45;&gt;Experiment -->\n",
       "<g class=\"edge\" id=\"edge2\">\n",
       "<title>User-&gt;Experiment</title>\n",
       "<path d=\"M38.8521,-197.4485C38.8521,-186.6074 38.8521,-172.7356 38.8521,-161.8408\" fill=\"none\" stroke=\"#000000\" stroke-opacity=\"0.250980\" stroke-width=\".75\"/>\n",
       "</g>\n",
       "<!-- Experiment&#45;&gt;Set -->\n",
       "<g class=\"edge\" id=\"edge3\">\n",
       "<title>Experiment-&gt;Set</title>\n",
       "<path d=\"M38.8521,-126.4485C38.8521,-115.6074 38.8521,-101.7356 38.8521,-90.8408\" fill=\"none\" stroke=\"#000000\" stroke-opacity=\"0.250980\" stroke-width=\"2\"/>\n",
       "</g>\n",
       "</g>\n",
       "</svg>"
      ],
      "text/plain": [
       "<datajoint.diagram.Diagram at 0x133ac83c8>"
      ]
     },
     "execution_count": 27,
     "metadata": {},
     "output_type": "execute_result"
    }
   ],
   "source": [
    "dj.ERD(schema)"
   ]
  },
  {
   "cell_type": "markdown",
   "metadata": {},
   "source": [
    "The different colors indicate different table types. Gray is lookup, green is manual, blue is Imported and red (which we will see below) is computed. This entity relationship diagram describes how data is ultimately organized in the relational database. The next step is the population of the database with data."
   ]
  },
  {
   "cell_type": "markdown",
   "metadata": {},
   "source": [
    "## 2) Generate content for the database"
   ]
  },
  {
   "cell_type": "markdown",
   "metadata": {},
   "source": [
    "The first think to enter into the databse are two experimenters, and their first experiment. With datajoint, we use the method .insert()"
   ]
  },
  {
   "cell_type": "code",
   "execution_count": 28,
   "metadata": {},
   "outputs": [],
   "source": [
    "Experiment().insert((['Angus',1],['John',1]), skip_duplicates = True)"
   ]
  },
  {
   "cell_type": "code",
   "execution_count": 29,
   "metadata": {},
   "outputs": [
    {
     "data": {
      "text/html": [
       "\n",
       "        \n",
       "        <style type=\"text/css\">\n",
       "            .Relation{\n",
       "                border-collapse:collapse;\n",
       "            }\n",
       "            .Relation th{\n",
       "                background: #A0A0A0; color: #ffffff; padding:4px; border:#f0e0e0 1px solid;\n",
       "                font-weight: normal; font-family: monospace; font-size: 100%;\n",
       "            }\n",
       "            .Relation td{\n",
       "                padding:4px; border:#f0e0e0 1px solid; font-size:100%;\n",
       "            }\n",
       "            .Relation tr:nth-child(odd){\n",
       "                background: #ffffff;\n",
       "            }\n",
       "            .Relation tr:nth-child(even){\n",
       "                background: #f3f1ff;\n",
       "            }\n",
       "            /* Tooltip container */\n",
       "            .djtooltip {\n",
       "            }\n",
       "            /* Tooltip text */\n",
       "            .djtooltip .djtooltiptext {\n",
       "                visibility: hidden;\n",
       "                width: 120px;\n",
       "                background-color: black;\n",
       "                color: #fff;\n",
       "                text-align: center;\n",
       "                padding: 5px 0;\n",
       "                border-radius: 6px;\n",
       "                /* Position the tooltip text - see examples below! */\n",
       "                position: absolute;\n",
       "                z-index: 1;\n",
       "            }\n",
       "            #primary {\n",
       "                font-weight: bold;\n",
       "                color: black;\n",
       "            }\n",
       "\n",
       "            #nonprimary {\n",
       "                font-weight: normal;\n",
       "                color: white;\n",
       "            }\n",
       "\n",
       "            /* Show the tooltip text when you mouse over the tooltip container */\n",
       "            .djtooltip:hover .djtooltiptext {\n",
       "                visibility: visible;\n",
       "            }\n",
       "        </style>\n",
       "        \n",
       "        <b>A simple experiment.</b>\n",
       "            <div style=\"max-height:1000px;max-width:1500px;overflow:auto;\">\n",
       "            <table border=\"1\" class=\"Relation\">\n",
       "                <thead> <tr style=\"text-align: right;\"> <th> <div class=\"djtooltip\">\n",
       "                                <p id=\"primary\">username</p>\n",
       "                                <span class=\"djtooltiptext\">user in the lab</span>\n",
       "                            </div></th><th><div class=\"djtooltip\">\n",
       "                                <p id=\"primary\">experiment</p>\n",
       "                                <span class=\"djtooltiptext\">allowed here are sql datatypes.</span>\n",
       "                            </div> </th> </tr> </thead>\n",
       "                <tbody> <tr> <td>Angus</td>\n",
       "<td>1</td></tr><tr><td>John</td>\n",
       "<td>1</td> </tr> </tbody>\n",
       "            </table>\n",
       "            \n",
       "            <p>Total: 2</p></div>\n",
       "            "
      ],
      "text/plain": [
       "*username    *experiment   \n",
       "+----------+ +------------+\n",
       "Angus        1             \n",
       "John         1             \n",
       " (Total: 2)"
      ]
     },
     "execution_count": 29,
     "metadata": {},
     "output_type": "execute_result"
    }
   ],
   "source": [
    "Experiment() #Shows the current content of the database"
   ]
  },
  {
   "cell_type": "markdown",
   "metadata": {},
   "source": [
    "Now that we have two experiments defined, we can populate the datasets for the experiment. This is done with the .populate() command."
   ]
  },
  {
   "cell_type": "code",
   "execution_count": 30,
   "metadata": {},
   "outputs": [],
   "source": [
    "Set().populate()"
   ]
  },
  {
   "cell_type": "code",
   "execution_count": 31,
   "metadata": {},
   "outputs": [
    {
     "data": {
      "text/html": [
       "\n",
       "        \n",
       "        <style type=\"text/css\">\n",
       "            .Relation{\n",
       "                border-collapse:collapse;\n",
       "            }\n",
       "            .Relation th{\n",
       "                background: #A0A0A0; color: #ffffff; padding:4px; border:#f0e0e0 1px solid;\n",
       "                font-weight: normal; font-family: monospace; font-size: 100%;\n",
       "            }\n",
       "            .Relation td{\n",
       "                padding:4px; border:#f0e0e0 1px solid; font-size:100%;\n",
       "            }\n",
       "            .Relation tr:nth-child(odd){\n",
       "                background: #ffffff;\n",
       "            }\n",
       "            .Relation tr:nth-child(even){\n",
       "                background: #f3f1ff;\n",
       "            }\n",
       "            /* Tooltip container */\n",
       "            .djtooltip {\n",
       "            }\n",
       "            /* Tooltip text */\n",
       "            .djtooltip .djtooltiptext {\n",
       "                visibility: hidden;\n",
       "                width: 120px;\n",
       "                background-color: black;\n",
       "                color: #fff;\n",
       "                text-align: center;\n",
       "                padding: 5px 0;\n",
       "                border-radius: 6px;\n",
       "                /* Position the tooltip text - see examples below! */\n",
       "                position: absolute;\n",
       "                z-index: 1;\n",
       "            }\n",
       "            #primary {\n",
       "                font-weight: bold;\n",
       "                color: black;\n",
       "            }\n",
       "\n",
       "            #nonprimary {\n",
       "                font-weight: normal;\n",
       "                color: white;\n",
       "            }\n",
       "\n",
       "            /* Show the tooltip text when you mouse over the tooltip container */\n",
       "            .djtooltip:hover .djtooltiptext {\n",
       "                visibility: visible;\n",
       "            }\n",
       "        </style>\n",
       "        \n",
       "        <b>A set of datapoints</b>\n",
       "            <div style=\"max-height:1000px;max-width:1500px;overflow:auto;\">\n",
       "            <table border=\"1\" class=\"Relation\">\n",
       "                <thead> <tr style=\"text-align: right;\"> <th> <div class=\"djtooltip\">\n",
       "                                <p id=\"primary\">username</p>\n",
       "                                <span class=\"djtooltiptext\">user in the lab</span>\n",
       "                            </div></th><th><div class=\"djtooltip\">\n",
       "                                <p id=\"primary\">experiment</p>\n",
       "                                <span class=\"djtooltiptext\">allowed here are sql datatypes.</span>\n",
       "                            </div> </th> </tr> </thead>\n",
       "                <tbody> <tr> <td>Angus</td>\n",
       "<td>1</td></tr><tr><td>John</td>\n",
       "<td>1</td> </tr> </tbody>\n",
       "            </table>\n",
       "            \n",
       "            <p>Total: 2</p></div>\n",
       "            "
      ],
      "text/plain": [
       "*username    *experiment   \n",
       "+----------+ +------------+\n",
       "Angus        1             \n",
       "John         1             \n",
       " (Total: 2)"
      ]
     },
     "execution_count": 31,
     "metadata": {},
     "output_type": "execute_result"
    }
   ],
   "source": [
    "Set() # Now there are two datasets in the database"
   ]
  },
  {
   "cell_type": "code",
   "execution_count": 32,
   "metadata": {},
   "outputs": [
    {
     "data": {
      "text/html": [
       "\n",
       "        \n",
       "        <style type=\"text/css\">\n",
       "            .Relation{\n",
       "                border-collapse:collapse;\n",
       "            }\n",
       "            .Relation th{\n",
       "                background: #A0A0A0; color: #ffffff; padding:4px; border:#f0e0e0 1px solid;\n",
       "                font-weight: normal; font-family: monospace; font-size: 100%;\n",
       "            }\n",
       "            .Relation td{\n",
       "                padding:4px; border:#f0e0e0 1px solid; font-size:100%;\n",
       "            }\n",
       "            .Relation tr:nth-child(odd){\n",
       "                background: #ffffff;\n",
       "            }\n",
       "            .Relation tr:nth-child(even){\n",
       "                background: #f3f1ff;\n",
       "            }\n",
       "            /* Tooltip container */\n",
       "            .djtooltip {\n",
       "            }\n",
       "            /* Tooltip text */\n",
       "            .djtooltip .djtooltiptext {\n",
       "                visibility: hidden;\n",
       "                width: 120px;\n",
       "                background-color: black;\n",
       "                color: #fff;\n",
       "                text-align: center;\n",
       "                padding: 5px 0;\n",
       "                border-radius: 6px;\n",
       "                /* Position the tooltip text - see examples below! */\n",
       "                position: absolute;\n",
       "                z-index: 1;\n",
       "            }\n",
       "            #primary {\n",
       "                font-weight: bold;\n",
       "                color: black;\n",
       "            }\n",
       "\n",
       "            #nonprimary {\n",
       "                font-weight: normal;\n",
       "                color: white;\n",
       "            }\n",
       "\n",
       "            /* Show the tooltip text when you mouse over the tooltip container */\n",
       "            .djtooltip:hover .djtooltiptext {\n",
       "                visibility: visible;\n",
       "            }\n",
       "        </style>\n",
       "        \n",
       "        <b>Collected data.</b>\n",
       "            <div style=\"max-height:1000px;max-width:1500px;overflow:auto;\">\n",
       "            <table border=\"1\" class=\"Relation\">\n",
       "                <thead> <tr style=\"text-align: right;\"> <th> <div class=\"djtooltip\">\n",
       "                                <p id=\"primary\">username</p>\n",
       "                                <span class=\"djtooltiptext\">user in the lab</span>\n",
       "                            </div></th><th><div class=\"djtooltip\">\n",
       "                                <p id=\"primary\">experiment</p>\n",
       "                                <span class=\"djtooltiptext\">allowed here are sql datatypes.</span>\n",
       "                            </div></th><th><div class=\"djtooltip\">\n",
       "                                <p id=\"primary\">datapoint</p>\n",
       "                                <span class=\"djtooltiptext\"></span>\n",
       "                            </div></th><th><div class=\"djtooltip\">\n",
       "                                <p id=\"nonprimary\">x</p>\n",
       "                                <span class=\"djtooltiptext\"></span>\n",
       "                            </div></th><th><div class=\"djtooltip\">\n",
       "                                <p id=\"nonprimary\">y</p>\n",
       "                                <span class=\"djtooltiptext\"></span>\n",
       "                            </div> </th> </tr> </thead>\n",
       "                <tbody> <tr> <td>Angus</td>\n",
       "<td>1</td>\n",
       "<td>0</td>\n",
       "<td>-0.0104247</td>\n",
       "<td>0.16206</td></tr><tr><td>Angus</td>\n",
       "<td>1</td>\n",
       "<td>1</td>\n",
       "<td>1.13202</td>\n",
       "<td>1.9107</td></tr><tr><td>Angus</td>\n",
       "<td>1</td>\n",
       "<td>2</td>\n",
       "<td>2.03001</td>\n",
       "<td>3.93036</td></tr><tr><td>Angus</td>\n",
       "<td>1</td>\n",
       "<td>3</td>\n",
       "<td>3.08286</td>\n",
       "<td>6.0738</td></tr><tr><td>Angus</td>\n",
       "<td>1</td>\n",
       "<td>4</td>\n",
       "<td>3.96137</td>\n",
       "<td>8.06825</td></tr><tr><td>Angus</td>\n",
       "<td>1</td>\n",
       "<td>5</td>\n",
       "<td>4.96181</td>\n",
       "<td>9.97676</td></tr><tr><td>Angus</td>\n",
       "<td>1</td>\n",
       "<td>6</td>\n",
       "<td>6.01647</td>\n",
       "<td>11.9566</td></tr><tr><td>Angus</td>\n",
       "<td>1</td>\n",
       "<td>7</td>\n",
       "<td>7.01952</td>\n",
       "<td>13.9828</td></tr><tr><td>Angus</td>\n",
       "<td>1</td>\n",
       "<td>8</td>\n",
       "<td>8.1314</td>\n",
       "<td>16.0675</td></tr><tr><td>Angus</td>\n",
       "<td>1</td>\n",
       "<td>9</td>\n",
       "<td>9.11042</td>\n",
       "<td>17.9545</td></tr><tr><td>John</td>\n",
       "<td>1</td>\n",
       "<td>0</td>\n",
       "<td>-0.00783866</td>\n",
       "<td>-0.0875573</td></tr><tr><td>John</td>\n",
       "<td>1</td>\n",
       "<td>1</td>\n",
       "<td>1.14573</td>\n",
       "<td>2.08703</td> </tr> </tbody>\n",
       "            </table>\n",
       "            <p>...</p>\n",
       "            <p>Total: 20</p></div>\n",
       "            "
      ],
      "text/plain": [
       "*username    *experiment    *datapoint    x              y             \n",
       "+----------+ +------------+ +-----------+ +------------+ +------------+\n",
       "Angus        1              0             -0.0104247     0.16206       \n",
       "Angus        1              1             1.13202        1.9107        \n",
       "Angus        1              2             2.03001        3.93036       \n",
       "Angus        1              3             3.08286        6.0738        \n",
       "Angus        1              4             3.96137        8.06825       \n",
       "Angus        1              5             4.96181        9.97676       \n",
       "Angus        1              6             6.01647        11.9566       \n",
       "Angus        1              7             7.01952        13.9828       \n",
       "Angus        1              8             8.1314         16.0675       \n",
       "Angus        1              9             9.11042        17.9545       \n",
       "John         1              0             -0.00783866    -0.0875573    \n",
       "John         1              1             1.14573        2.08703       \n",
       "   ...\n",
       " (Total: 20)"
      ]
     },
     "execution_count": 32,
     "metadata": {},
     "output_type": "execute_result"
    }
   ],
   "source": [
    "Set().DataPoint() # With a set of datapoints"
   ]
  },
  {
   "cell_type": "markdown",
   "metadata": {},
   "source": [
    "One of the reasons that datajoint is popular is that it allows users to make SQL queries without even noticing it, e.g."
   ]
  },
  {
   "cell_type": "code",
   "execution_count": 33,
   "metadata": {},
   "outputs": [
    {
     "data": {
      "text/html": [
       "\n",
       "        \n",
       "        <style type=\"text/css\">\n",
       "            .Relation{\n",
       "                border-collapse:collapse;\n",
       "            }\n",
       "            .Relation th{\n",
       "                background: #A0A0A0; color: #ffffff; padding:4px; border:#f0e0e0 1px solid;\n",
       "                font-weight: normal; font-family: monospace; font-size: 100%;\n",
       "            }\n",
       "            .Relation td{\n",
       "                padding:4px; border:#f0e0e0 1px solid; font-size:100%;\n",
       "            }\n",
       "            .Relation tr:nth-child(odd){\n",
       "                background: #ffffff;\n",
       "            }\n",
       "            .Relation tr:nth-child(even){\n",
       "                background: #f3f1ff;\n",
       "            }\n",
       "            /* Tooltip container */\n",
       "            .djtooltip {\n",
       "            }\n",
       "            /* Tooltip text */\n",
       "            .djtooltip .djtooltiptext {\n",
       "                visibility: hidden;\n",
       "                width: 120px;\n",
       "                background-color: black;\n",
       "                color: #fff;\n",
       "                text-align: center;\n",
       "                padding: 5px 0;\n",
       "                border-radius: 6px;\n",
       "                /* Position the tooltip text - see examples below! */\n",
       "                position: absolute;\n",
       "                z-index: 1;\n",
       "            }\n",
       "            #primary {\n",
       "                font-weight: bold;\n",
       "                color: black;\n",
       "            }\n",
       "\n",
       "            #nonprimary {\n",
       "                font-weight: normal;\n",
       "                color: white;\n",
       "            }\n",
       "\n",
       "            /* Show the tooltip text when you mouse over the tooltip container */\n",
       "            .djtooltip:hover .djtooltiptext {\n",
       "                visibility: visible;\n",
       "            }\n",
       "        </style>\n",
       "        \n",
       "        <b>A simple experiment.</b>\n",
       "            <div style=\"max-height:1000px;max-width:1500px;overflow:auto;\">\n",
       "            <table border=\"1\" class=\"Relation\">\n",
       "                <thead> <tr style=\"text-align: right;\"> <th> <div class=\"djtooltip\">\n",
       "                                <p id=\"primary\">username</p>\n",
       "                                <span class=\"djtooltiptext\">user in the lab</span>\n",
       "                            </div></th><th><div class=\"djtooltip\">\n",
       "                                <p id=\"primary\">experiment</p>\n",
       "                                <span class=\"djtooltiptext\">allowed here are sql datatypes.</span>\n",
       "                            </div> </th> </tr> </thead>\n",
       "                <tbody> <tr> <td>Angus</td>\n",
       "<td>1</td> </tr> </tbody>\n",
       "            </table>\n",
       "            \n",
       "            <p>Total: 1</p></div>\n",
       "            "
      ],
      "text/plain": [
       "*username    *experiment   \n",
       "+----------+ +------------+\n",
       "Angus        1             \n",
       " (Total: 1)"
      ]
     },
     "execution_count": 33,
     "metadata": {},
     "output_type": "execute_result"
    }
   ],
   "source": [
    "Experiment() & 'username = \"Angus\"'"
   ]
  },
  {
   "cell_type": "markdown",
   "metadata": {},
   "source": [
    "# 3) Compute in the database."
   ]
  },
  {
   "cell_type": "markdown",
   "metadata": {},
   "source": [
    "First, we add a new table to the database that fits a line"
   ]
  },
  {
   "cell_type": "code",
   "execution_count": 34,
   "metadata": {},
   "outputs": [],
   "source": [
    "@schema\n",
    "class Fitparameters(dj.Computed):\n",
    "    definition = \"\"\"\n",
    "    # calculates the fitparameters\n",
    "    -> Set\n",
    "    -----\n",
    "    slope : float\n",
    "    offset: float\n",
    "    \"\"\"\n",
    "    def _make_tuples(self, key):\n",
    "        data  = (Set().DataPoint() & key)\n",
    "        x, y = data.fetch('x','y')\n",
    "        slope, intercept, r_value, p_value, std_err = stats.linregress(x,y)\n",
    "        self.insert1(dict(key, slope = slope, offset = intercept))"
   ]
  },
  {
   "cell_type": "markdown",
   "metadata": {},
   "source": [
    "Check that it appeared in the entity relationship diagram:"
   ]
  },
  {
   "cell_type": "code",
   "execution_count": 36,
   "metadata": {},
   "outputs": [
    {
     "data": {
      "image/svg+xml": [
       "<svg height=\"247pt\" viewBox=\"0.00 0.00 193.86 247.00\" width=\"194pt\" xmlns=\"http://www.w3.org/2000/svg\" xmlns:xlink=\"http://www.w3.org/1999/xlink\">\n",
       "<g class=\"graph\" id=\"graph0\" transform=\"scale(1 1) rotate(0) translate(4 243)\">\n",
       "<title>%3</title>\n",
       "<polygon fill=\"#ffffff\" points=\"-4,4 -4,-243 189.8628,-243 189.8628,4 -4,4\" stroke=\"transparent\"/>\n",
       "<!-- Set -->\n",
       "<g class=\"node\" id=\"node1\">\n",
       "<title>Set</title>\n",
       "<g id=\"a_node1\"><a xlink:title=\"→ Experiment\r",
       "\">\n",
       "<ellipse cx=\"38.8521\" cy=\"-79.5\" fill=\"#00007f\" fill-opacity=\"0.250980\" rx=\"21.9757\" ry=\"17.5\" stroke=\"#00007f\" stroke-opacity=\"0.250980\"/>\n",
       "<text fill=\"#00007f\" font-family=\"arial\" font-size=\"12.00\" text-anchor=\"middle\" x=\"38.8521\" y=\"-76.7994\">Set</text>\n",
       "</a>\n",
       "</g>\n",
       "</g>\n",
       "<!-- Set.DataPoint -->\n",
       "<g class=\"node\" id=\"node2\">\n",
       "<title>Set.DataPoint</title>\n",
       "<g id=\"a_node2\"><a xlink:title=\"→ Set\r",
       "datapoint            \r",
       "------------------------------\r",
       "x                    \r",
       "y                    \r",
       "\">\n",
       "<polygon fill=\"transparent\" points=\"77.5567,-23.0056 .1474,-23.0056 .1474,-2.9944 77.5567,-2.9944 77.5567,-23.0056\" stroke=\"transparent\"/>\n",
       "<text fill=\"#000000\" font-family=\"arial\" font-size=\"10.00\" text-anchor=\"start\" text-decoration=\"underline\" x=\"8\" y=\"-11.7495\">Set.DataPoint</text>\n",
       "</a>\n",
       "</g>\n",
       "</g>\n",
       "<!-- Set&#45;&gt;Set.DataPoint -->\n",
       "<g class=\"edge\" id=\"edge1\">\n",
       "<title>Set-&gt;Set.DataPoint</title>\n",
       "<path d=\"M38.8521,-61.6792C38.8521,-49.214 38.8521,-33.0314 38.8521,-22.828\" fill=\"none\" stroke=\"#000000\" stroke-opacity=\"0.250980\" stroke-width=\".75\"/>\n",
       "</g>\n",
       "<!-- Fitparameters -->\n",
       "<g class=\"node\" id=\"node3\">\n",
       "<title>Fitparameters</title>\n",
       "<g id=\"a_node3\"><a xlink:title=\"→ Set\r",
       "------------------------------\r",
       "slope                \r",
       "offset               \r",
       "\">\n",
       "<ellipse cx=\"140.8521\" cy=\"-13\" fill=\"#ff0000\" fill-opacity=\"0.125490\" rx=\"13.0031\" ry=\"13\" stroke=\"#ff0000\" stroke-opacity=\"0.125490\"/>\n",
       "<text fill=\"#7f0000\" font-family=\"arial\" font-size=\"12.00\" text-anchor=\"middle\" x=\"140.8521\" y=\"-10.2994\">Fitparameters</text>\n",
       "</a>\n",
       "</g>\n",
       "</g>\n",
       "<!-- Set&#45;&gt;Fitparameters -->\n",
       "<g class=\"edge\" id=\"edge2\">\n",
       "<title>Set-&gt;Fitparameters</title>\n",
       "<path d=\"M56.155,-68.2192C77.185,-54.5084 112.0516,-31.7768 129.774,-20.2224\" fill=\"none\" stroke=\"#000000\" stroke-opacity=\"0.250980\" stroke-width=\"2\"/>\n",
       "</g>\n",
       "<!-- User -->\n",
       "<g class=\"node\" id=\"node4\">\n",
       "<title>User</title>\n",
       "<g id=\"a_node4\"><a xlink:title=\"username             \r",
       "------------------------------\r",
       "first_name           \r",
       "last_name            \r",
       "\">\n",
       "<polygon fill=\"#000000\" fill-opacity=\"0.125490\" points=\"57.4655,-239 20.2386,-239 20.2386,-204 57.4655,-204 57.4655,-239\" stroke=\"transparent\"/>\n",
       "<text fill=\"#000000\" font-family=\"arial\" font-size=\"10.00\" text-anchor=\"start\" text-decoration=\"underline\" x=\"28.2954\" y=\"-220.2495\">User</text>\n",
       "</a>\n",
       "</g>\n",
       "</g>\n",
       "<!-- Experiment -->\n",
       "<g class=\"node\" id=\"node5\">\n",
       "<title>Experiment</title>\n",
       "<g id=\"a_node5\"><a xlink:title=\"→ User\r",
       "experiment           \r",
       "\">\n",
       "<polygon fill=\"#00ff00\" fill-opacity=\"0.188235\" points=\"77.0441,-168 .66,-168 .66,-133 77.0441,-133 77.0441,-168\" stroke=\"#00ff00\" stroke-opacity=\"0.188235\"/>\n",
       "<text fill=\"#006400\" font-family=\"arial\" font-size=\"12.00\" text-anchor=\"start\" text-decoration=\"underline\" x=\"8.5063\" y=\"-148.7994\">Experiment</text>\n",
       "</a>\n",
       "</g>\n",
       "</g>\n",
       "<!-- User&#45;&gt;Experiment -->\n",
       "<g class=\"edge\" id=\"edge3\">\n",
       "<title>User-&gt;Experiment</title>\n",
       "<path d=\"M38.8521,-203.9494C38.8521,-193.1083 38.8521,-179.2366 38.8521,-168.3418\" fill=\"none\" stroke=\"#000000\" stroke-opacity=\"0.250980\" stroke-width=\".75\"/>\n",
       "</g>\n",
       "<!-- Experiment&#45;&gt;Set -->\n",
       "<g class=\"edge\" id=\"edge4\">\n",
       "<title>Experiment-&gt;Set</title>\n",
       "<path d=\"M38.8521,-132.9494C38.8521,-122.1083 38.8521,-108.2366 38.8521,-97.3418\" fill=\"none\" stroke=\"#000000\" stroke-opacity=\"0.250980\" stroke-width=\"2\"/>\n",
       "</g>\n",
       "</g>\n",
       "</svg>"
      ],
      "text/plain": [
       "<datajoint.diagram.Diagram at 0x133d59f98>"
      ]
     },
     "execution_count": 36,
     "metadata": {},
     "output_type": "execute_result"
    }
   ],
   "source": [
    "dj.ERD(schema)"
   ]
  },
  {
   "cell_type": "markdown",
   "metadata": {},
   "source": [
    "After the definition we can call the populate function and read out the results"
   ]
  },
  {
   "cell_type": "code",
   "execution_count": 23,
   "metadata": {},
   "outputs": [
    {
     "data": {
      "text/html": [
       "\n",
       "        \n",
       "        <style type=\"text/css\">\n",
       "            .Relation{\n",
       "                border-collapse:collapse;\n",
       "            }\n",
       "            .Relation th{\n",
       "                background: #A0A0A0; color: #ffffff; padding:4px; border:#f0e0e0 1px solid;\n",
       "                font-weight: normal; font-family: monospace; font-size: 100%;\n",
       "            }\n",
       "            .Relation td{\n",
       "                padding:4px; border:#f0e0e0 1px solid; font-size:100%;\n",
       "            }\n",
       "            .Relation tr:nth-child(odd){\n",
       "                background: #ffffff;\n",
       "            }\n",
       "            .Relation tr:nth-child(even){\n",
       "                background: #f3f1ff;\n",
       "            }\n",
       "            /* Tooltip container */\n",
       "            .djtooltip {\n",
       "            }\n",
       "            /* Tooltip text */\n",
       "            .djtooltip .djtooltiptext {\n",
       "                visibility: hidden;\n",
       "                width: 120px;\n",
       "                background-color: black;\n",
       "                color: #fff;\n",
       "                text-align: center;\n",
       "                padding: 5px 0;\n",
       "                border-radius: 6px;\n",
       "                /* Position the tooltip text - see examples below! */\n",
       "                position: absolute;\n",
       "                z-index: 1;\n",
       "            }\n",
       "            #primary {\n",
       "                font-weight: bold;\n",
       "                color: black;\n",
       "            }\n",
       "\n",
       "            #nonprimary {\n",
       "                font-weight: normal;\n",
       "                color: white;\n",
       "            }\n",
       "\n",
       "            /* Show the tooltip text when you mouse over the tooltip container */\n",
       "            .djtooltip:hover .djtooltiptext {\n",
       "                visibility: visible;\n",
       "            }\n",
       "        </style>\n",
       "        \n",
       "        <b>calculates the fitparameters</b>\n",
       "            <div style=\"max-height:1000px;max-width:1500px;overflow:auto;\">\n",
       "            <table border=\"1\" class=\"Relation\">\n",
       "                <thead> <tr style=\"text-align: right;\"> <th> <div class=\"djtooltip\">\n",
       "                                <p id=\"primary\">username</p>\n",
       "                                <span class=\"djtooltiptext\">user in the lab</span>\n",
       "                            </div></th><th><div class=\"djtooltip\">\n",
       "                                <p id=\"primary\">experiment</p>\n",
       "                                <span class=\"djtooltiptext\">allowed here are sql datatypes.</span>\n",
       "                            </div></th><th><div class=\"djtooltip\">\n",
       "                                <p id=\"nonprimary\">slope</p>\n",
       "                                <span class=\"djtooltiptext\"></span>\n",
       "                            </div></th><th><div class=\"djtooltip\">\n",
       "                                <p id=\"nonprimary\">offset</p>\n",
       "                                <span class=\"djtooltiptext\"></span>\n",
       "                            </div> </th> </tr> </thead>\n",
       "                <tbody> <tr> <td>Angus</td>\n",
       "<td>1</td>\n",
       "<td>2.00694</td>\n",
       "<td>-0.173524</td></tr><tr><td>John</td>\n",
       "<td>1</td>\n",
       "<td>1.96454</td>\n",
       "<td>0.0591299</td> </tr> </tbody>\n",
       "            </table>\n",
       "            \n",
       "            <p>Total: 2</p></div>\n",
       "            "
      ],
      "text/plain": [
       "*username    *experiment    slope       offset       \n",
       "+----------+ +------------+ +---------+ +-----------+\n",
       "Angus        1              2.00694     -0.173524    \n",
       "John         1              1.96454     0.0591299    \n",
       " (Total: 2)"
      ]
     },
     "execution_count": 23,
     "metadata": {},
     "output_type": "execute_result"
    }
   ],
   "source": [
    "Fitparameters().populate()\n",
    "Fitparameters()"
   ]
  },
  {
   "cell_type": "markdown",
   "metadata": {},
   "source": [
    "If you use a database management tool, like Sequel Pro, or you connect to the database, you should be able to see the data directly."
   ]
  },
  {
   "cell_type": "code",
   "execution_count": null,
   "metadata": {},
   "outputs": [],
   "source": []
  }
 ],
 "metadata": {
  "kernelspec": {
   "display_name": "Python 3",
   "language": "python",
   "name": "python3"
  },
  "language_info": {
   "codemirror_mode": {
    "name": "ipython",
    "version": 3
   },
   "file_extension": ".py",
   "mimetype": "text/x-python",
   "name": "python",
   "nbconvert_exporter": "python",
   "pygments_lexer": "ipython3",
   "version": "3.7.3"
  }
 },
 "nbformat": 4,
 "nbformat_minor": 2
}
